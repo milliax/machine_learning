{
 "cells": [
  {
   "cell_type": "code",
   "execution_count": null,
   "metadata": {},
   "outputs": [],
   "source": [
    "\"\"\" Getting started to create a KNN classifier from scratch \"\"\"\n",
    "import numpy as np\n",
    "import pandas as pd\n",
    "from collections import Counter\n",
    "\n",
    "class KNN:\n",
    "    def __init__(self,k) -> None:\n",
    "        self.k = k\n",
    "        pass\n",
    "\n",
    "    def fit(self,X,y):\n",
    "        self.X_train = X\n",
    "        self.y_train = y\n",
    "        pass\n",
    "\n",
    "    def euclidean_distance(self,X1,X2):\n",
    "        return np.sqrt(np.sum((X1-X2)**2))\n",
    "    \n",
    "    def predict(self,X):\n",
    "        predicted_labels = [self._predict(x) for x in X]\n",
    "        return np.array(predicted_labels)"
   ]
  },
  {
   "cell_type": "code",
   "execution_count": null,
   "metadata": {},
   "outputs": [],
   "source": [
    "\"\"\" Train Data \"\"\"\n",
    "from sklearn.datasets import load_iris\n",
    "from sklearn.model_selection import train_test_split\n",
    "\n",
    "iris = load_iris()\n",
    "X_train, X_test, y_train, y_test = train_test_split(iris.data,iris.target,test_size=0.2,random_state=1234)\n",
    "\n",
    "knn = KNN(k=3)\n",
    "\n",
    "knn.fit(X_train,y_train)\n",
    "predictions = knn.predict(X_test)"
   ]
  },
  {
   "cell_type": "code",
   "execution_count": null,
   "metadata": {},
   "outputs": [],
   "source": [
    "\"\"\" Drawing Plot \"\"\"\n",
    "import matplotlib.pyplot as plt\n",
    "\n",
    "plt.scatter(X_train[:,0],X_train[:,1],c=y_train,cmap='winter')\n",
    "\n",
    "plt.xlabel('sepal length')\n",
    "plt.ylabel('sepal width')\n",
    "\n",
    "plt.show()\n"
   ]
  }
 ],
 "metadata": {
  "language_info": {
   "name": "python"
  }
 },
 "nbformat": 4,
 "nbformat_minor": 2
}
